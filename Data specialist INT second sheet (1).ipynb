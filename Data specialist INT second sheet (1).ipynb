{
 "cells": [
  {
   "cell_type": "markdown",
   "metadata": {},
   "source": [
    "# Answers of the test file, sheet 2"
   ]
  },
  {
   "cell_type": "markdown",
   "metadata": {},
   "source": [
    "<font color=\"blue\">Importing necessary library for analysis"
   ]
  },
  {
   "cell_type": "code",
   "execution_count": 24,
   "metadata": {},
   "outputs": [
    {
     "name": "stdout",
     "output_type": "stream",
     "text": [
      "Collecting plotly\n",
      "  Downloading plotly-5.3.1-py2.py3-none-any.whl (23.9 MB)\n",
      "Collecting tenacity>=6.2.0\n",
      "  Downloading tenacity-8.0.1-py3-none-any.whl (24 kB)\n",
      "Requirement already satisfied: six in c:\\users\\carnival\\anaconda3\\lib\\site-packages (from plotly) (1.15.0)\n",
      "Installing collected packages: tenacity, plotly\n",
      "Successfully installed plotly-5.3.1 tenacity-8.0.1\n",
      "Note: you may need to restart the kernel to use updated packages.\n"
     ]
    }
   ],
   "source": [
    "pip install plotly"
   ]
  },
  {
   "cell_type": "code",
   "execution_count": 25,
   "metadata": {},
   "outputs": [],
   "source": [
    "import pandas as pd\n",
    "import numpy as np\n",
    "import matplotlib.pyplot as plt\n",
    "import plotly.express as px\n",
    "import seaborn as sns"
   ]
  },
  {
   "cell_type": "markdown",
   "metadata": {},
   "source": [
    "<font color=\"blue\">Reading the test file"
   ]
  },
  {
   "cell_type": "code",
   "execution_count": 2,
   "metadata": {},
   "outputs": [],
   "source": [
    "df=pd.read_excel(r'C:\\Users\\Carnival\\Downloads\\Data_Specialist_Test (9).xlsx', header=14, sheet_name=\"Performance Report\")"
   ]
  },
  {
   "cell_type": "markdown",
   "metadata": {},
   "source": [
    "<font color='blue'>Wrangling the data"
   ]
  },
  {
   "cell_type": "code",
   "execution_count": 3,
   "metadata": {},
   "outputs": [
    {
     "data": {
      "text/html": [
       "<div>\n",
       "<style scoped>\n",
       "    .dataframe tbody tr th:only-of-type {\n",
       "        vertical-align: middle;\n",
       "    }\n",
       "\n",
       "    .dataframe tbody tr th {\n",
       "        vertical-align: top;\n",
       "    }\n",
       "\n",
       "    .dataframe thead th {\n",
       "        text-align: right;\n",
       "    }\n",
       "</style>\n",
       "<table border=\"1\" class=\"dataframe\">\n",
       "  <thead>\n",
       "    <tr style=\"text-align: right;\">\n",
       "      <th></th>\n",
       "      <th>Unnamed: 0</th>\n",
       "      <th>Ad Source</th>\n",
       "      <th>App Name</th>\n",
       "      <th>Revenue</th>\n",
       "      <th>eCPM</th>\n",
       "      <th>Impressions</th>\n",
       "      <th>Imps. / Session</th>\n",
       "    </tr>\n",
       "  </thead>\n",
       "  <tbody>\n",
       "    <tr>\n",
       "      <th>0</th>\n",
       "      <td>NaN</td>\n",
       "      <td>Network 1</td>\n",
       "      <td>App 1</td>\n",
       "      <td>1170</td>\n",
       "      <td>7.55</td>\n",
       "      <td>155000</td>\n",
       "      <td>0.13</td>\n",
       "    </tr>\n",
       "    <tr>\n",
       "      <th>1</th>\n",
       "      <td>NaN</td>\n",
       "      <td>Network 1</td>\n",
       "      <td>App 2</td>\n",
       "      <td>250</td>\n",
       "      <td>6.94</td>\n",
       "      <td>36000</td>\n",
       "      <td>0.55</td>\n",
       "    </tr>\n",
       "    <tr>\n",
       "      <th>2</th>\n",
       "      <td>NaN</td>\n",
       "      <td>Network 1</td>\n",
       "      <td>App 3</td>\n",
       "      <td>220</td>\n",
       "      <td>7.10</td>\n",
       "      <td>31000</td>\n",
       "      <td>0.28</td>\n",
       "    </tr>\n",
       "    <tr>\n",
       "      <th>3</th>\n",
       "      <td>NaN</td>\n",
       "      <td>Network 1</td>\n",
       "      <td>App 4</td>\n",
       "      <td>130</td>\n",
       "      <td>7.22</td>\n",
       "      <td>18000</td>\n",
       "      <td>0.21</td>\n",
       "    </tr>\n",
       "    <tr>\n",
       "      <th>4</th>\n",
       "      <td>NaN</td>\n",
       "      <td>Network 2</td>\n",
       "      <td>App 1</td>\n",
       "      <td>3340</td>\n",
       "      <td>3.57</td>\n",
       "      <td>935000</td>\n",
       "      <td>0.77</td>\n",
       "    </tr>\n",
       "    <tr>\n",
       "      <th>5</th>\n",
       "      <td>NaN</td>\n",
       "      <td>Network 2</td>\n",
       "      <td>App 2</td>\n",
       "      <td>0</td>\n",
       "      <td>0.00</td>\n",
       "      <td>63000</td>\n",
       "      <td>0.95</td>\n",
       "    </tr>\n",
       "    <tr>\n",
       "      <th>6</th>\n",
       "      <td>NaN</td>\n",
       "      <td>Network 2</td>\n",
       "      <td>App 3</td>\n",
       "      <td>620</td>\n",
       "      <td>6.60</td>\n",
       "      <td>94000</td>\n",
       "      <td>0.86</td>\n",
       "    </tr>\n",
       "    <tr>\n",
       "      <th>7</th>\n",
       "      <td>NaN</td>\n",
       "      <td>Network 2</td>\n",
       "      <td>App 4</td>\n",
       "      <td>0</td>\n",
       "      <td>0.00</td>\n",
       "      <td>29000</td>\n",
       "      <td>0.35</td>\n",
       "    </tr>\n",
       "  </tbody>\n",
       "</table>\n",
       "</div>"
      ],
      "text/plain": [
       "   Unnamed: 0  Ad Source App Name  Revenue  eCPM  Impressions  Imps. / Session\n",
       "0         NaN  Network 1    App 1     1170  7.55       155000             0.13\n",
       "1         NaN  Network 1    App 2      250  6.94        36000             0.55\n",
       "2         NaN  Network 1    App 3      220  7.10        31000             0.28\n",
       "3         NaN  Network 1    App 4      130  7.22        18000             0.21\n",
       "4         NaN  Network 2    App 1     3340  3.57       935000             0.77\n",
       "5         NaN  Network 2    App 2        0  0.00        63000             0.95\n",
       "6         NaN  Network 2    App 3      620  6.60        94000             0.86\n",
       "7         NaN  Network 2    App 4        0  0.00        29000             0.35"
      ]
     },
     "execution_count": 3,
     "metadata": {},
     "output_type": "execute_result"
    }
   ],
   "source": [
    "df.head(8)"
   ]
  },
  {
   "cell_type": "markdown",
   "metadata": {},
   "source": [
    "<font color=\"blue\">Clean the file by removal the unnamed column"
   ]
  },
  {
   "cell_type": "code",
   "execution_count": 4,
   "metadata": {},
   "outputs": [],
   "source": [
    "del df[\"Unnamed: 0\"]"
   ]
  },
  {
   "cell_type": "markdown",
   "metadata": {},
   "source": [
    "<font color='blue'>Checking the type of data in the file"
   ]
  },
  {
   "cell_type": "code",
   "execution_count": 5,
   "metadata": {},
   "outputs": [
    {
     "data": {
      "text/plain": [
       "Ad Source           object\n",
       "App Name            object\n",
       "Revenue              int64\n",
       "eCPM               float64\n",
       "Impressions          int64\n",
       "Imps. / Session    float64\n",
       "dtype: object"
      ]
     },
     "execution_count": 5,
     "metadata": {},
     "output_type": "execute_result"
    }
   ],
   "source": [
    "df.dtypes"
   ]
  },
  {
   "cell_type": "markdown",
   "metadata": {},
   "source": [
    "<font color=\"blue\">Visualizing the data for better insights"
   ]
  },
  {
   "cell_type": "code",
   "execution_count": 6,
   "metadata": {},
   "outputs": [
    {
     "data": {
      "image/png": "[encoded data removed]",
      "text/plain": [
       "<Figure size 432x288 with 1 Axes>"
      ]
     },
     "metadata": {
      "needs_background": "light"
     },
     "output_type": "display_data"
    }
   ],
   "source": [
    "df.groupby(\"Ad Source\")[\"Revenue\"].sum().plot(kind='bar');\n",
    "plt.ylabel(\"Total revenue\");\n",
    "plt.title(\"Total revenues for both networks\");"
   ]
  },
  {
   "cell_type": "code",
   "execution_count": 7,
   "metadata": {},
   "outputs": [
    {
     "data": {
      "image/png": "[encoded data removed]",
      "text/plain": [
       "<Figure size 432x288 with 1 Axes>"
      ]
     },
     "metadata": {
      "needs_background": "light"
     },
     "output_type": "display_data"
    }
   ],
   "source": [
    "df.groupby(\"Ad Source\")[\"Impressions\"].sum().plot(kind='bar')\n",
    "plt.ylabel(\"Total impressions\")\n",
    "plt.yscale(\"log\")\n",
    "plt.title(\"Total impressions for both networks\");"
   ]
  },
  {
   "cell_type": "code",
   "execution_count": 8,
   "metadata": {},
   "outputs": [
    {
     "data": {
      "image/png": "[encoded data removed]",
      "text/plain": [
       "<Figure size 432x288 with 1 Axes>"
      ]
     },
     "metadata": {
      "needs_background": "light"
     },
     "output_type": "display_data"
    }
   ],
   "source": [
    "df.groupby(\"Ad Source\")[\"eCPM\"].sum().plot(kind='bar')\n",
    "plt.ylabel(\"Total eCPM\");\n",
    "plt.title(\"Total eCPM for both networks\");"
   ]
  },
  {
   "cell_type": "markdown",
   "metadata": {},
   "source": [
    "**1.a) Which ad source network is performing the best? Based on which criteria are you making such conclusions? Revenue / eCPM / Impr, etc.?**\n",
    "><font color=\"red\">*Without unreserved doubt I choose Netwrok 1 as the best performing Network. Although Network 2 got more revenues and impressions than Network 1, Network 1 has a remarkable eCPM. Besides, Network1 has a low revenue because the impressions are low. Neverthless, Network 1 is more effective than Network 2. Bear in mind  that I am in the stakeholder's shoes.*"
   ]
  },
  {
   "cell_type": "markdown",
   "metadata": {},
   "source": [
    "<font color=\"blue\">Summarizing the data for better insights"
   ]
  },
  {
   "cell_type": "code",
   "execution_count": 9,
   "metadata": {},
   "outputs": [],
   "source": [
    "App_Name=df.groupby(\"App Name\").sum()"
   ]
  },
  {
   "cell_type": "markdown",
   "metadata": {},
   "source": [
    "<font color='blue'> Displaying the summarized data"
   ]
  },
  {
   "cell_type": "code",
   "execution_count": 10,
   "metadata": {},
   "outputs": [
    {
     "data": {
      "text/html": [
       "<div>\n",
       "<style scoped>\n",
       "    .dataframe tbody tr th:only-of-type {\n",
       "        vertical-align: middle;\n",
       "    }\n",
       "\n",
       "    .dataframe tbody tr th {\n",
       "        vertical-align: top;\n",
       "    }\n",
       "\n",
       "    .dataframe thead th {\n",
       "        text-align: right;\n",
       "    }\n",
       "</style>\n",
       "<table border=\"1\" class=\"dataframe\">\n",
       "  <thead>\n",
       "    <tr style=\"text-align: right;\">\n",
       "      <th></th>\n",
       "      <th>Revenue</th>\n",
       "      <th>eCPM</th>\n",
       "      <th>Impressions</th>\n",
       "      <th>Imps. / Session</th>\n",
       "    </tr>\n",
       "    <tr>\n",
       "      <th>App Name</th>\n",
       "      <th></th>\n",
       "      <th></th>\n",
       "      <th></th>\n",
       "      <th></th>\n",
       "    </tr>\n",
       "  </thead>\n",
       "  <tbody>\n",
       "    <tr>\n",
       "      <th>App 1</th>\n",
       "      <td>4510</td>\n",
       "      <td>11.12</td>\n",
       "      <td>1090000</td>\n",
       "      <td>0.90</td>\n",
       "    </tr>\n",
       "    <tr>\n",
       "      <th>App 2</th>\n",
       "      <td>250</td>\n",
       "      <td>6.94</td>\n",
       "      <td>99000</td>\n",
       "      <td>1.50</td>\n",
       "    </tr>\n",
       "    <tr>\n",
       "      <th>App 3</th>\n",
       "      <td>840</td>\n",
       "      <td>13.70</td>\n",
       "      <td>125000</td>\n",
       "      <td>1.14</td>\n",
       "    </tr>\n",
       "    <tr>\n",
       "      <th>App 4</th>\n",
       "      <td>130</td>\n",
       "      <td>7.22</td>\n",
       "      <td>47000</td>\n",
       "      <td>0.56</td>\n",
       "    </tr>\n",
       "  </tbody>\n",
       "</table>\n",
       "</div>"
      ],
      "text/plain": [
       "          Revenue   eCPM  Impressions  Imps. / Session\n",
       "App Name                                              \n",
       "App 1        4510  11.12      1090000             0.90\n",
       "App 2         250   6.94        99000             1.50\n",
       "App 3         840  13.70       125000             1.14\n",
       "App 4         130   7.22        47000             0.56"
      ]
     },
     "execution_count": 10,
     "metadata": {},
     "output_type": "execute_result"
    }
   ],
   "source": [
    "App_Name"
   ]
  },
  {
   "cell_type": "markdown",
   "metadata": {},
   "source": [
    "**1.b) Which app is performing the best? Based on which criteria are you making such conclusions? Revenue / eCPM / Impr, etc.?**\n",
    "><font color=\"red\">*I would choose App 1 because it has the highest revenue*"
   ]
  },
  {
   "cell_type": "markdown",
   "metadata": {},
   "source": [
    "**1.c)  How would you suggest to optimise these networks or what changes would you recommend? Which app would you allocate more resources to?**\n",
    "\n",
    "><font color=\"red\">*To optimise the Netwroks, I would recommend getting more impressions for Network 1. Obviousuly, from the chart the more impressions it gets, the more revenue it achieves. On the other hand, Network 2 have better number in impressions and revenue, but it is not as effecient as Network 1 so the eCPM needs to be improved.*\n",
    "    \n",
    "><font color=\"red\">*In my opinion, more resources should be allocated to App 3 because it has the highest eCPM and second highest revenue and impressoins*"
   ]
  },
  {
   "cell_type": "markdown",
   "metadata": {},
   "source": [
    "**2. What other conclusion can you make from the data?**\n",
    "><font color='red'>*The effectiveness / efficiency of the Network 2 might be affected by the zeros in revenues in both App 2 & App 4. If these zeroes are incorrect, obviously, this would lead to different conclusions.*\n",
    "    \n",
    "><font color='red'>*App 1 in both Networks has the highest numbers in revenues and impressions*\n",
    "    \n",
    "><font color='red'>*App 3 revenue's and impressions almost tripled in Network 2 in comparison to Network 1*"
   ]
  },
  {
   "cell_type": "markdown",
   "metadata": {},
   "source": [
    "**3. Make a simple graph based on the data and indicate what you want to highlight in its title.**\n",
    "><font color='red'>*The figure below.*"
   ]
  },
  {
   "cell_type": "code",
   "execution_count": 11,
   "metadata": {},
   "outputs": [
    {
     "data": {
      "image/png": "[encoded data removed]",
      "text/plain": [
       "<Figure size 1008x432 with 1 Axes>"
      ]
     },
     "metadata": {
      "needs_background": "light"
     },
     "output_type": "display_data"
    }
   ],
   "source": [
    "plt.figure(figsize=(14,6));\n",
    "e_CPM= df[df.eCPM>0]\n",
    "sns.barplot(x=\"App Name\", y=\"eCPM\", data=df, hue=\"Ad Source\", ci=None, dodge=True);\n",
    "plt.title(\"The best performing applications\", fontsize=15);"
   ]
  },
  {
   "cell_type": "markdown",
   "metadata": {},
   "source": [
    "**4. What question would you ask your manager about this data set or this task?**\n",
    "><font color='red'>*Are the data sources trustworthy?*\n",
    "\n",
    "><font color='red'>*What exactly do you want to find out?*\n",
    "    \n",
    "><font color='red'>*Who are the end users of the analysis results?*\n",
    "    \n",
    "><font color='red'>*How long these Networks are running? Are they equal in duration?*"
   ]
  }
 ],
 "metadata": {
  "kernelspec": {
   "display_name": "Python 3",
   "language": "python",
   "name": "python3"
  },
  "language_info": {
   "codemirror_mode": {
    "name": "ipython",
    "version": 3
   },
   "file_extension": ".py",
   "mimetype": "text/x-python",
   "name": "python",
   "nbconvert_exporter": "python",
   "pygments_lexer": "ipython3",
   "version": "3.8.3"
  }
 },
 "nbformat": 4,
 "nbformat_minor": 4
}
